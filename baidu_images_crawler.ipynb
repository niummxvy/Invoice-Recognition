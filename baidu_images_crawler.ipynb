{
 "cells": [
  {
   "cell_type": "code",
   "execution_count": 13,
   "metadata": {},
   "outputs": [],
   "source": [
    "import requests\n",
    "import json\n",
    "import os"
   ]
  },
  {
   "cell_type": "code",
   "execution_count": 34,
   "metadata": {},
   "outputs": [],
   "source": [
    "def get_pic_url(num):\n",
    "    pic_url= []\n",
    "    headers = {\n",
    "        # [Custom] F12 -> Network -> acjson... -> Headers -> Request Headers -> User-Agent\n",
    "        'User-Agent': 'Mozilla/5.0 (Macintosh; Intel Mac OS X 10_14_3) AppleWebKit/537.36 (KHTML, like Gecko) Chrome/90.0.4430.212 Safari/537.36'\n",
    "    }\n",
    "    for i in range(num):\n",
    "        # [Custom] F12 -> Network -> acjson... -> Headers -> General -> Request URL (pn=number -> pn={})\n",
    "        page_url = 'https://image.baidu.com/search/acjson?tn=resultjson_com&logid=8656710494057643711&ipn=rj&ct=201326592&is=&fp=result&queryWord=%E5%AE%9A%E9%A2%9D%E5%8F%91%E7%A5%A8&cl=2&lm=-1&ie=utf-8&oe=utf-8&adpicid=&st=&z=&ic=&hd=&latest=&copyright=&word=%E5%AE%9A%E9%A2%9D%E5%8F%91%E7%A5%A8&s=&se=&tab=&width=&height=&face=&istype=&qc=&nc=1&fr=&expermode=&nojc=&pn={}&rn=30&gsm=5a&1625708771157='.format(30*i)\n",
    "        r = requests.get(page_url, headers=headers).text\n",
    "        res = json.loads(r)['data']\n",
    "        if res:\n",
    "#            print(res)\n",
    "            for j in res\n",
    "                try:\n",
    "                    url = j['hoverURL']\n",
    "                    pic_url.append(url)\n",
    "                except:\n",
    "                    print('The url of this image does not exist.')\n",
    "\n",
    "    print(len(pic_url))\n",
    "    return pic_url"
   ]
  },
  {
   "cell_type": "code",
   "execution_count": 48,
   "metadata": {},
   "outputs": [],
   "source": [
    "def down_img(num):\n",
    "    pic_url  =get_pic_url(num)\n",
    "    \n",
    "    directory = '/Users/lishunbin/Desktop/baidu_images' # [Custom] directory of target package\n",
    "    if os.path.exists(directory):\n",
    "        print('The target directory exists.')\n",
    "        pass\n",
    "    else:\n",
    "        os.makedirs(directory)\n",
    "        print('The target directory is created.')\n",
    "\n",
    "    path = '/Users/lishunbin/Desktop/baidu_images/' # [Custom] directory/\n",
    "    for index,i in enumerate(pic_url):\n",
    "        print(i)\n",
    "        if i == '': continue # skip while getting empty url\n",
    "        filename = path +   str(index) + '.jpg' # directory/0.jpg, directory/1.jpg, directory/2.jpg, ...\n",
    "        print(filename)\n",
    "        try:\n",
    "            with open(filename, 'wb+') as f:\n",
    "                f.write(requests.get(i, timeout=3).content) # cause exception while time > 3\n",
    "        except requests.exceptions.RequestException as e:\n",
    "            print(e)"
   ]
  },
  {
   "cell_type": "code",
   "execution_count": null,
   "metadata": {
    "scrolled": true
   },
   "outputs": [],
   "source": [
    "if __name__ == '__main__':\n",
    "    num = int(input('爬取几次图片：一次30张\\n'))\n",
    "    down_img(num)"
   ]
  },
  {
   "cell_type": "code",
   "execution_count": null,
   "metadata": {},
   "outputs": [],
   "source": []
  }
 ],
 "metadata": {
  "kernelspec": {
   "display_name": "Python 3",
   "language": "python",
   "name": "python3"
  },
  "language_info": {
   "codemirror_mode": {
    "name": "ipython",
    "version": 3
   },
   "file_extension": ".py",
   "mimetype": "text/x-python",
   "name": "python",
   "nbconvert_exporter": "python",
   "pygments_lexer": "ipython3",
   "version": "3.7.9"
  }
 },
 "nbformat": 4,
 "nbformat_minor": 4
}
